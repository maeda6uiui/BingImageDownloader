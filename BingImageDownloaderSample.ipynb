{
  "nbformat": 4,
  "nbformat_minor": 0,
  "metadata": {
    "colab": {
      "name": "BingImageDownloaderSample.ipynb",
      "provenance": []
    },
    "kernelspec": {
      "name": "python3",
      "display_name": "Python 3"
    }
  },
  "cells": [
    {
      "cell_type": "code",
      "metadata": {
        "id": "u4eRwbut5eAK"
      },
      "source": [
        "#Mount Google Drive\r\n",
        "from google.colab import drive\r\n",
        "drive.mount('/content/drive')"
      ],
      "execution_count": null,
      "outputs": []
    },
    {
      "cell_type": "code",
      "metadata": {
        "id": "-ARQGhDs47oS"
      },
      "source": [
        "#Clone BingImageDownloader\r\n",
        "!git clone https://github.com/maeda6uiui/BingImageDownloader\r\n",
        "%cd BingImageDownloader\r\n",
        "\r\n",
        "#Install icrawler\r\n",
        "!pip install icrawler"
      ],
      "execution_count": null,
      "outputs": []
    },
    {
      "cell_type": "code",
      "metadata": {
        "id": "mmG5doaP5bPG"
      },
      "source": [
        "#Create a text file enumerating your keywords and save it as keywords.txt\r\n",
        "#!cat>keywords.txt"
      ],
      "execution_count": null,
      "outputs": []
    },
    {
      "cell_type": "code",
      "metadata": {
        "id": "ieO8T6ez6qWI"
      },
      "source": [
        "#Run\r\n",
        "!python3 run.py \\\r\n",
        "    --keywords_filepath ./keywords.txt \\\r\n",
        "    --save_root_dir ./Image \\\r\n",
        "    --overwrite \\\r\n",
        "    --archive_save_dir /content/drive/MyDrive/ImageArchive &>/dev/null"
      ],
      "execution_count": null,
      "outputs": []
    }
  ]
}